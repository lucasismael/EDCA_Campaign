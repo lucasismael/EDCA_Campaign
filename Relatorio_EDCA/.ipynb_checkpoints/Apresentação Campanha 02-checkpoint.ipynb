{
 "cells": [
  {
   "cell_type": "markdown",
   "metadata": {},
   "source": [
    "# Fase III - Campanha 02: 802.11ac + QoS\n",
    "\n",
    "## Objetivos: \n",
    "\n",
    "O objetivo da etapa atual é estudar o comportamento do protocolo **802.11ac** em conjunto com o **Enhanced Distribution Channel Access (EDCA)** e múltiplos serviços, representados pelas **Access Categories (AC)**, por meio de simulações realizadas com o auxílio do ns-3.\n",
    "\n",
    "## Implementação:\n",
    "\n",
    "O script de simulação foi construído utilizando o **ns-3.30.1** e tem como base o exemplo [wifi-multi-tos.cc](https://www.nsnam.org/docs/release/3.30/doxygen/wifi-multi-tos_8cc.html) proveniente do mófulo Wi-Fi, sendo encontrado em **_~/ns-allinone-3.30.1/ns-3.30.1/examples/wireless_**. O código padrão possui a seguinte descrição:\n",
    "\n",
    "![descrição padrão wifi-multi-tos.cc](./FIGS/default_description.png)\n",
    "\n",
    "Como o exemplo em questão configura uma rede semelhante ao cenário de simulação desejado algumas alterações foram realizadas para que o mesmo atendesse as nossas necessidades. Em seguida serão apresentadas as principais alterações efetuadas no código principal.\n",
    "\n",
    "### Alteração do padrão PHY Wi-Fi:\n",
    "\n",
    "No script padrão a simulação é realizada utilizando o padrão PHY 802.11n na frequência de 5GHz.\n",
    "\n",
    "![padrão PHY original](./FIGS/default_standard.png)\n",
    "\n",
    "O padrão Wi-Fi é facilmente modificado por meio da função **_SetStandard_**, proveniente do WifiHelper. Substituimos o valor anterior para **WIFI_PHY_STANDARD_80211ac** que representa o padrão desejado.\n",
    "\n",
    "![padrão PHY modificado](./FIGS/modified_standard.png)\n",
    "\n",
    "\n",
    "### Alteração do Algoritmo de adaptação de taxa:\n",
    "\n",
    "Em relação ao algoritmo de adaptação de taxa, utilizamos a mesma configuração do exemplo (sem adaptação) em conjunto com o **VHT MCS**, apropriado para o 802.11ac.\n",
    "\n",
    "![wifistationmanager modificado](./FIGS/Modified_Manager.png)\n",
    "\n",
    "### Configurando a MAC:\n",
    "\n",
    "Para configurar a nova MAC foi necessário ativar o suporte a **Qualidade de Serviço (QoS)** no AP e STAs, por meio do atributo **_QosSupported_** da função **_SetType_** do WifiMacHelper.\n",
    "\n",
    "![MAC modificado](./FIGS/modified_MAC.png)\n",
    "\n",
    "### Configurando a Mobilidade:\n",
    "\n",
    "A nova configuração de mobilidade é simples, o AP está localizado na posição (0,0,0) enquanto a STA (ou STAs) são alocados em posições aleatórias e nenhum nó se move durante a simulação.\n",
    "\n",
    "![Mobilidade modificado](./FIGS/modified_mobility.png)\n",
    "\n",
    "### Configurando o endereçamento dos nós:\n",
    "O **InternetStackHelper** foi utilizado para agregar as funcionalidades IP/TCP/UDP aos nós existentes no cenário. Setamos o endereço IP do AP como 192.168.1.1 e os subsequentes são alocados as STAs.\n",
    "\n",
    "![Internet_stack](./FIGS/modified_internetstack.png)\n",
    "\n",
    "### Configurando as Aplicações:\n",
    "Finalizando a implementação do cenário configuramos as aplicações utilizadas na simulação com o auxílio do **OnOffHelper** e **PacketSinkHelper** com os conhecimentos obtidos em fases passadas do treinamento. O desafio encontrado nessa etapa foi aprender a manipular as quatro categorias de acesso (ACs) utilizadas no EDCA (Best Effort, Background, Video e Voice).\n",
    "\n",
    "De acordo com a [documentação do módulo Wi-Fi](https://www.nsnam.org/docs/release/3.30/models/html/wifi-user.html#selection-of-the-access-category-ac) a partir do ns-3.26 a seleção da AC não é realizada por meio de uma **QosTag** adicionada ao pacote enviado, com isso essa seleção é feita alterando o campo **Type of Service (ToS)**  no header IP do pacote. Na prática, essa modificação é realizada criando um novo socket de destino onde especificamos o ToS desejado (Representado por um [valor hexadecimal](https://www.nsnam.org/docs/release/3.30/doxygen/wifi-ac-mapping-test-suite_8cc.html)) e utilizamos a aplicação OnOff para transmitir os pacotes.\n",
    "\n",
    "* **Best Effort (AC_BE):** 0x70\n",
    "* **Background (AC_BK):** 0x28\n",
    "* **Video (AC_VI):** 0xb8\n",
    "* **Voice (AC_VO):** 0xc0\n",
    "\n",
    "Dois casos foram montados, um para **Downlink** e outro para **Uplink**.\n"
   ]
  }
 ],
 "metadata": {
  "kernelspec": {
   "display_name": "Python 3",
   "language": "python",
   "name": "python3"
  },
  "language_info": {
   "codemirror_mode": {
    "name": "ipython",
    "version": 3
   },
   "file_extension": ".py",
   "mimetype": "text/x-python",
   "name": "python",
   "nbconvert_exporter": "python",
   "pygments_lexer": "ipython3",
   "version": "3.7.4"
  },
  "latex_envs": {
   "LaTeX_envs_menu_present": true,
   "autoclose": false,
   "autocomplete": true,
   "bibliofile": "biblio.bib",
   "cite_by": "apalike",
   "current_citInitial": 1,
   "eqLabelWithNumbers": true,
   "eqNumInitial": 1,
   "hotkeys": {
    "equation": "Ctrl-E",
    "itemize": "Ctrl-I"
   },
   "labels_anchors": false,
   "latex_user_defs": false,
   "report_style_numbering": false,
   "user_envs_cfg": false
  }
 },
 "nbformat": 4,
 "nbformat_minor": 2
}
